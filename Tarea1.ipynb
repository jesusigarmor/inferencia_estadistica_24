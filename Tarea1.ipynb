{
  "nbformat": 4,
  "nbformat_minor": 0,
  "metadata": {
    "colab": {
      "provenance": [],
      "mount_file_id": "1pA8w-DxGCkV3AT4GD4ru_AVR3We69G3M",
      "authorship_tag": "ABX9TyPolWnHS4zsonbmStVWhDxJ",
      "include_colab_link": true
    },
    "kernelspec": {
      "name": "python3",
      "display_name": "Python 3"
    },
    "language_info": {
      "name": "python"
    }
  },
  "cells": [
    {
      "cell_type": "markdown",
      "metadata": {
        "id": "view-in-github",
        "colab_type": "text"
      },
      "source": [
        "<a href=\"https://colab.research.google.com/github/jesusigarmor/inferencia_estadistica_24/blob/main/Tarea1.ipynb\" target=\"_parent\"><img src=\"https://colab.research.google.com/assets/colab-badge.svg\" alt=\"Open In Colab\"/></a>"
      ]
    },
    {
      "cell_type": "markdown",
      "source": [
        "# Inferencia Estadistica\n",
        "## Tarea 1\n",
        "## Isaias Jesus Garcia Moreno\n",
        "## 179474\n",
        "\n",
        "\n"
      ],
      "metadata": {
        "id": "XA_41404ATdU"
      }
    },
    {
      "cell_type": "code",
      "source": [
        "import pandas as pd"
      ],
      "metadata": {
        "id": "NSydgkRiBle6"
      },
      "execution_count": 3,
      "outputs": []
    },
    {
      "cell_type": "code",
      "source": [
        "df_imdb = pd.read_excel(\"/content/movies.xlsx\")\n",
        "print(df_imdb)"
      ],
      "metadata": {
        "colab": {
          "base_uri": "https://localhost:8080/"
        },
        "id": "b-GR5s5SBu6J",
        "outputId": "793e793c-b794-4fb0-892d-a9cbf7028eb0"
      },
      "execution_count": 5,
      "outputs": [
        {
          "output_type": "stream",
          "name": "stdout",
          "text": [
            "                                           Title  Rating  Year     Month  \\\n",
            "0                       Avatar: The Way of Water     7.8  2022  December   \n",
            "1                 Guillermo del Toro's Pinocchio     7.6  2022  December   \n",
            "2                                   Bullet Train     7.3  2022    August   \n",
            "3                      The Banshees of Inisherin     7.8  2022  November   \n",
            "4                                          M3gan     6.4  2022  December   \n",
            "...                                          ...     ...   ...       ...   \n",
            "1995                       A Tale of Two Sisters     7.1  2003      June   \n",
            "1996  Lara Croft Tomb Raider: The Cradle of Life     5.5  2003      July   \n",
            "1997                                     Gothika     5.8  2003  November   \n",
            "1998                   Ong-Bak: The Thai Warrior     7.1  2003  February   \n",
            "1999                                  Open Water     5.8  2003    August   \n",
            "\n",
            "     Certificate Runtime                           Directors  \\\n",
            "0          PG-13     192                       James Cameron   \n",
            "1             PG     117  Guillermo del Toro, Mark Gustafson   \n",
            "2              R     127                        David Leitch   \n",
            "3              R     114                     Martin McDonagh   \n",
            "4          PG-13     102                    Gerard Johnstone   \n",
            "...          ...     ...                                 ...   \n",
            "1995           R     114                        Jee woon Kim   \n",
            "1996       PG-13     117                         Jan de Bont   \n",
            "1997           R      98                   Mathieu Kassovitz   \n",
            "1998           R     105                     Prachya Pinkaew   \n",
            "1999           R      79                        Chris Kentis   \n",
            "\n",
            "                                                  Stars  \\\n",
            "0     Sam Worthington, Zoe Saldana, Sigourney Weaver...   \n",
            "1     Ewan McGregor, David Bradley, Gregory Mann, Bu...   \n",
            "2     Brad Pitt, Joey King, Aaron Taylor Johnson, Br...   \n",
            "3     Colin Farrell, Brendan Gleeson, Kerry Condon, ...   \n",
            "4     Jenna Davis, Amie Donald, Allison Williams, Vi...   \n",
            "...                                                 ...   \n",
            "1995  Lim Soo jung, Yum Jung ah, Kim Kap su, Moon Ge...   \n",
            "1996  Angelina Jolie, Gerard Butler, Chris Barrie, C...   \n",
            "1997  Halle Berry, Pen lope Cruz, Robert Downey Jr ,...   \n",
            "1998  Tony Jaa, Phetthai Vongkumlao, Pumwaree Yodkam...   \n",
            "1999  Blanchard Ryan, Daniel Travis, Saul Stein, Mic...   \n",
            "\n",
            "                           Genre Filming_location     Budget        Income  \\\n",
            "0     Action, Adventure, Fantasy      New Zealand  350000000  2.267947e+09   \n",
            "1       Animation, Drama, Family              USA   35000000  1.089670e+05   \n",
            "2       Action, Comedy, Thriller            Japan   85900000  2.392686e+08   \n",
            "3                  Comedy, Drama          Ireland        NaN  1.972082e+07   \n",
            "4       Horror, Sci-Fi, Thriller      New Zealand   12000000  1.712539e+08   \n",
            "...                          ...              ...        ...           ...   \n",
            "1995      Drama, Horror, Mystery      South Korea        NaN  1.062878e+06   \n",
            "1996  Action, Adventure, Fantasy           Greece   95000000  1.600992e+08   \n",
            "1997   Horror, Mystery, Thriller           Canada   40000000  1.415913e+08   \n",
            "1998     Action, Crime, Thriller         Thailand        NaN  2.023543e+07   \n",
            "1999    Adventure, Drama, Horror          Bahamas     500000  5.468349e+07   \n",
            "\n",
            "           Revenue                                  Country_of_origin  \n",
            "0     1.917947e+09                                      United States  \n",
            "1    -3.489103e+07                      United States, Mexico, France  \n",
            "2     1.533686e+08                               Japan, United States  \n",
            "3              NaN             Ireland, United Kingdom, United States  \n",
            "4     1.592539e+08                                      United States  \n",
            "...            ...                                                ...  \n",
            "1995           NaN                                        South Korea  \n",
            "1996  6.509922e+07  United States, Germany, Japan, United Kingdom,...  \n",
            "1997  1.015913e+08               United States, France, Canada, Spain  \n",
            "1998           NaN                        Thailand, France, Hong Kong  \n",
            "1999  5.418349e+07                                      United States  \n",
            "\n",
            "[2000 rows x 14 columns]\n"
          ]
        }
      ]
    },
    {
      "cell_type": "markdown",
      "source": [
        "### Ejercicio 1\n",
        "\n",
        "a) Para cada una de las variables en la tabla proporciona su tipo de dato y escala\n",
        "de medición."
      ],
      "metadata": {
        "id": "e4pBKFvNAkdN"
      }
    },
    {
      "cell_type": "markdown",
      "source": [
        "| Variable | Tipo | Escala |\n",
        "| :-------: | :---:| :-----: |\n",
        "|Title | Cualitativa | Etiqueta |\n",
        "|Rating | Cuantitativa |  \n",
        "|Year |\n",
        "|Month |\n",
        "|Certificate |\n",
        "|Runtime |\n",
        "|Directors |\n",
        "|Stars |\n",
        "|Genre |\n",
        "|Filming_location |\n",
        "|Budget |\n",
        "|Income |\n",
        "|Revenue |\n",
        "|Country_of_origin |"
      ],
      "metadata": {
        "id": "QBI-sgbJC0lL"
      }
    }
  ]
}